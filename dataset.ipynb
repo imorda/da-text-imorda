{
 "cells": [
  {
   "cell_type": "code",
   "execution_count": 2,
   "id": "initial_id",
   "metadata": {
    "collapsed": true,
    "ExecuteTime": {
     "end_time": "2023-12-26T02:56:32.556190300Z",
     "start_time": "2023-12-26T02:56:30.594002400Z"
    }
   },
   "outputs": [],
   "source": [
    "import json\n",
    "\n",
    "import requests\n",
    "from tqdm import tqdm\n",
    "from bs4 import BeautifulSoup\n",
    "import lxml\n",
    "import pandas as pd\n",
    "import numpy as np"
   ]
  },
  {
   "cell_type": "code",
   "outputs": [],
   "source": [
    "df = pd.read_csv('data/2ch_posts.csv')"
   ],
   "metadata": {
    "collapsed": false,
    "ExecuteTime": {
     "end_time": "2023-12-26T03:12:20.264972400Z",
     "start_time": "2023-12-26T03:12:20.187978100Z"
    }
   },
   "id": "172e05dade4e81d3",
   "execution_count": 16
  },
  {
   "cell_type": "code",
   "outputs": [
    {
     "name": "stderr",
     "output_type": "stream",
     "text": [
      "100%|██████████| 13344/13344 [11:06:14<00:00,  3.00s/it]  \n"
     ]
    }
   ],
   "source": [
    "system = f\"\"\"\n",
    "    You are given exactly one post from a special forum where people post their problems and ask for advice.\n",
    "    The forum is called \"2ch\" and it is very popular in Russia.\n",
    "    Your task is to determine if this message is *toxic* or not.\n",
    "    Respond with exactly one number: '1' if the message is toxic and '0' otherwise. Don't write anything else.\n",
    "\"\"\"\n",
    "\n",
    "\n",
    "mapping = []\n",
    "for post in tqdm(df['text']):  \n",
    "    for _ in range(5):\n",
    "        r = requests.post(url=\"http://localhost:11434/api/generate\",\n",
    "                          json={\n",
    "                              \"model\": \"llama2-uncensored\",\n",
    "                              \"prompt\": post,\n",
    "                              \"stream\": False,\n",
    "                              # \"context\": context,\n",
    "                              \"system\": system,\n",
    "                          })\n",
    "        if r.status_code == 200:\n",
    "            response_str = r.content.decode('utf-8')\n",
    "            response = json.loads(response_str)[\"response\"]\n",
    "            spl = response.strip().replace(',', ' ').replace('  ', ' ').replace('\\n', ' ').strip()\n",
    "\n",
    "            if spl != '1' and spl != '0':\n",
    "                # print(response)\n",
    "                continue\n",
    "            mapping.append((post, int(spl)))\n",
    "            # print(post, \": \", spl, sep='')\n",
    "            break\n",
    "        else:\n",
    "            print(\"Response status code is {r.status_code}\")\n",
    "            continue\n"
   ],
   "metadata": {
    "collapsed": false,
    "ExecuteTime": {
     "end_time": "2023-12-26T15:33:47.384145700Z",
     "start_time": "2023-12-26T04:27:32.712004700Z"
    }
   },
   "id": "1615ea71bd3272cf",
   "execution_count": 46
  },
  {
   "cell_type": "code",
   "outputs": [],
   "source": [
    "df = pd.DataFrame(mapping, columns=['text', 'toxic'])"
   ],
   "metadata": {
    "collapsed": false,
    "ExecuteTime": {
     "end_time": "2023-12-26T15:35:49.719664500Z",
     "start_time": "2023-12-26T15:35:49.657505100Z"
    }
   },
   "id": "846451cf87f4d626",
   "execution_count": 47
  },
  {
   "cell_type": "code",
   "outputs": [],
   "source": [
    "df.to_csv('data/2ch_labeled_llama.csv', index=True, index_label='id')"
   ],
   "metadata": {
    "collapsed": false,
    "ExecuteTime": {
     "end_time": "2023-12-26T15:36:07.719239Z",
     "start_time": "2023-12-26T15:36:07.627162Z"
    }
   },
   "id": "95d403b01ee45753",
   "execution_count": 48
  }
 ],
 "metadata": {
  "kernelspec": {
   "display_name": "Python 3",
   "language": "python",
   "name": "python3"
  },
  "language_info": {
   "codemirror_mode": {
    "name": "ipython",
    "version": 2
   },
   "file_extension": ".py",
   "mimetype": "text/x-python",
   "name": "python",
   "nbconvert_exporter": "python",
   "pygments_lexer": "ipython2",
   "version": "2.7.6"
  }
 },
 "nbformat": 4,
 "nbformat_minor": 5
}
