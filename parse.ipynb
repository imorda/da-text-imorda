{
 "cells": [
  {
   "cell_type": "code",
   "outputs": [],
   "source": [
    "import json\n",
    "\n",
    "import requests\n",
    "from tqdm import tqdm\n",
    "from bs4 import BeautifulSoup\n",
    "import lxml\n",
    "import pandas as pd\n",
    "import numpy as np"
   ],
   "metadata": {
    "collapsed": false,
    "ExecuteTime": {
     "end_time": "2023-12-25T21:31:49.482299600Z",
     "start_time": "2023-12-25T21:31:49.468888300Z"
    }
   },
   "id": "f46383fe879cb3ba",
   "execution_count": 9
  },
  {
   "cell_type": "code",
   "execution_count": 2,
   "id": "initial_id",
   "metadata": {
    "collapsed": true,
    "ExecuteTime": {
     "end_time": "2023-12-25T21:23:06.473007100Z",
     "start_time": "2023-12-25T21:21:57.581393400Z"
    }
   },
   "outputs": [
    {
     "name": "stderr",
     "output_type": "stream",
     "text": [
      "162it [01:08,  2.37it/s]\n"
     ]
    }
   ],
   "source": [
    "all_posts = []\n",
    "r = requests.get(url=\"https://2ch.hk/b/threads.json\")\n",
    "if r.status_code == 200:\n",
    "    response_str = r.content.decode('utf-8')\n",
    "    response = json.loads(response_str)\n",
    "    thread_ids = [thread['num'] for thread in response['threads']]\n",
    "    thread_ids.reverse()\n",
    "    for thread_id in tqdm(thread_ids):\n",
    "        r = requests.get(url=f\"https://2ch.hk/b/res/{thread_id}.json\")\n",
    "        if r.status_code == 200:\n",
    "            response_str = r.content.decode('utf-8')\n",
    "            response = json.loads(response_str)\n",
    "            posts = response['threads'][0]['posts']\n",
    "            for post in posts:\n",
    "                if 'comment' in post:\n",
    "                    post_text = post['comment']\n",
    "                    all_posts.append(post_text)\n",
    "        else:\n",
    "            raise Exception(f\"Response status code is {r.status_code}\")\n",
    "else:\n",
    "    raise Exception(f\"Response status code is {r.status_code}\")\n"
   ]
  },
  {
   "cell_type": "code",
   "outputs": [
    {
     "name": "stderr",
     "output_type": "stream",
     "text": [
      "100%|██████████| 15331/15331 [00:03<00:00, 4670.66it/s]\n"
     ]
    }
   ],
   "source": [
    "all_posts_clean = []\n",
    "for html in tqdm(all_posts):\n",
    "    soup = BeautifulSoup(html, \"lxml\")\n",
    "    for a in soup.findAll('a', href=True):\n",
    "        a.extract()\n",
    "    cleantext = soup.text.strip().replace('\\n', ' ').replace('\\r', ' ').replace('\\t', ' ').replace('  ', ' ').lower()\n",
    "    if len(cleantext) > 0:\n",
    "        all_posts_clean.append(cleantext)"
   ],
   "metadata": {
    "collapsed": false,
    "ExecuteTime": {
     "end_time": "2023-12-25T22:54:59.315843900Z",
     "start_time": "2023-12-25T22:54:55.989221900Z"
    }
   },
   "id": "437c8c4db135967a",
   "execution_count": 15
  },
  {
   "cell_type": "code",
   "outputs": [
    {
     "data": {
      "text/plain": "                                                    text\n0      всю жизнь был нищим. на работу никуда не брали...\n1                                  сказать-то что хотел?\n2                            и что теперь делать будешь?\n3               иди нахуй наукоботское безмозглое уебище\n4                                        жирный бототред\n...                                                  ...\n13339  играю щас только на эмуляторах, щас персону 3 ...\n13340  запускай эмуляторы компа и консолей тогда, или...\n13341  только гвинт на телефоне. захожу подари бог ра...\n13342                                            геншин.\n13343  ещё можешь попытать четвертую персонку на aeth...\n\n[13344 rows x 1 columns]",
      "text/html": "<div>\n<style scoped>\n    .dataframe tbody tr th:only-of-type {\n        vertical-align: middle;\n    }\n\n    .dataframe tbody tr th {\n        vertical-align: top;\n    }\n\n    .dataframe thead th {\n        text-align: right;\n    }\n</style>\n<table border=\"1\" class=\"dataframe\">\n  <thead>\n    <tr style=\"text-align: right;\">\n      <th></th>\n      <th>text</th>\n    </tr>\n  </thead>\n  <tbody>\n    <tr>\n      <th>0</th>\n      <td>всю жизнь был нищим. на работу никуда не брали...</td>\n    </tr>\n    <tr>\n      <th>1</th>\n      <td>сказать-то что хотел?</td>\n    </tr>\n    <tr>\n      <th>2</th>\n      <td>и что теперь делать будешь?</td>\n    </tr>\n    <tr>\n      <th>3</th>\n      <td>иди нахуй наукоботское безмозглое уебище</td>\n    </tr>\n    <tr>\n      <th>4</th>\n      <td>жирный бототред</td>\n    </tr>\n    <tr>\n      <th>...</th>\n      <td>...</td>\n    </tr>\n    <tr>\n      <th>13339</th>\n      <td>играю щас только на эмуляторах, щас персону 3 ...</td>\n    </tr>\n    <tr>\n      <th>13340</th>\n      <td>запускай эмуляторы компа и консолей тогда, или...</td>\n    </tr>\n    <tr>\n      <th>13341</th>\n      <td>только гвинт на телефоне. захожу подари бог ра...</td>\n    </tr>\n    <tr>\n      <th>13342</th>\n      <td>геншин.</td>\n    </tr>\n    <tr>\n      <th>13343</th>\n      <td>ещё можешь попытать четвертую персонку на aeth...</td>\n    </tr>\n  </tbody>\n</table>\n<p>13344 rows × 1 columns</p>\n</div>"
     },
     "execution_count": 16,
     "metadata": {},
     "output_type": "execute_result"
    }
   ],
   "source": [
    "df = pd.DataFrame(all_posts_clean, columns=['text'])\n",
    "df"
   ],
   "metadata": {
    "collapsed": false,
    "ExecuteTime": {
     "end_time": "2023-12-25T22:55:01.141764300Z",
     "start_time": "2023-12-25T22:55:01.118669200Z"
    }
   },
   "id": "ebe31a9863d79f3c",
   "execution_count": 16
  },
  {
   "cell_type": "code",
   "outputs": [],
   "source": [
    "df.to_csv('data/2ch_posts.csv', index=True, index_label='id')"
   ],
   "metadata": {
    "collapsed": false,
    "ExecuteTime": {
     "end_time": "2023-12-25T22:55:02.140090600Z",
     "start_time": "2023-12-25T22:55:02.075852700Z"
    }
   },
   "id": "77ff61a7f72201a0",
   "execution_count": 17
  },
  {
   "cell_type": "code",
   "outputs": [],
   "source": [],
   "metadata": {
    "collapsed": false
   },
   "id": "fc2828da0807c896"
  }
 ],
 "metadata": {
  "kernelspec": {
   "display_name": "Python 3",
   "language": "python",
   "name": "python3"
  },
  "language_info": {
   "codemirror_mode": {
    "name": "ipython",
    "version": 2
   },
   "file_extension": ".py",
   "mimetype": "text/x-python",
   "name": "python",
   "nbconvert_exporter": "python",
   "pygments_lexer": "ipython2",
   "version": "2.7.6"
  }
 },
 "nbformat": 4,
 "nbformat_minor": 5
}
